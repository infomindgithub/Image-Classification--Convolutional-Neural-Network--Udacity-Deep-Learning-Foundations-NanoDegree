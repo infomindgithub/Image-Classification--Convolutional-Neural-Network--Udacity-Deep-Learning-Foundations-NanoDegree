{
 "cells": [
  {
   "cell_type": "markdown",
   "metadata": {
    "collapsed": true,
    "deletable": true,
    "editable": true
   },
   "source": [
    "# Image Classification\n",
    "In this project, you'll classify images from the [CIFAR-10 dataset](https://www.cs.toronto.edu/~kriz/cifar.html).  The dataset consists of airplanes, dogs, cats, and other objects. You'll preprocess the images, then train a convolutional neural network on all the samples. The images need to be normalized and the labels need to be one-hot encoded.  You'll get to apply what you learned and build a convolutional, max pooling, dropout, and fully connected layers.  At the end, you'll get to see your neural network's predictions on the sample images.\n",
    "## Get the Data\n",
    "Run the following cell to download the [CIFAR-10 dataset for python](https://www.cs.toronto.edu/~kriz/cifar-10-python.tar.gz)."
   ]
  },
  {
   "cell_type": "code",
   "execution_count": 1,
   "metadata": {
    "collapsed": false,
    "deletable": true,
    "editable": true
   },
   "outputs": [
    {
     "name": "stdout",
     "output_type": "stream",
     "text": [
      "All files found!\n"
     ]
    }
   ],
   "source": [
    "\"\"\"\n",
    "DON'T MODIFY ANYTHING IN THIS CELL THAT IS BELOW THIS LINE\n",
    "\"\"\"\n",
    "from urllib.request import urlretrieve\n",
    "from os.path import isfile, isdir\n",
    "from tqdm import tqdm\n",
    "import problem_unittests as tests\n",
    "import tarfile\n",
    "\n",
    "cifar10_dataset_folder_path = 'cifar-10-batches-py'\n",
    "\n",
    "# Use Floyd's cifar-10 dataset if present\n",
    "floyd_cifar10_location = '/input/cifar-10/python.tar.gz'\n",
    "if isfile(floyd_cifar10_location):\n",
    "    tar_gz_path = floyd_cifar10_location\n",
    "else:\n",
    "    tar_gz_path = 'cifar-10-python.tar.gz'\n",
    "\n",
    "class DLProgress(tqdm):\n",
    "    last_block = 0\n",
    "\n",
    "    def hook(self, block_num=1, block_size=1, total_size=None):\n",
    "        self.total = total_size\n",
    "        self.update((block_num - self.last_block) * block_size)\n",
    "        self.last_block = block_num\n",
    "\n",
    "if not isfile(tar_gz_path):\n",
    "    with DLProgress(unit='B', unit_scale=True, miniters=1, desc='CIFAR-10 Dataset') as pbar:\n",
    "        urlretrieve(\n",
    "            'https://www.cs.toronto.edu/~kriz/cifar-10-python.tar.gz',\n",
    "            tar_gz_path,\n",
    "            pbar.hook)\n",
    "\n",
    "if not isdir(cifar10_dataset_folder_path):\n",
    "    with tarfile.open(tar_gz_path) as tar:\n",
    "        tar.extractall()\n",
    "        tar.close()\n",
    "\n",
    "\n",
    "tests.test_folder_path(cifar10_dataset_folder_path)"
   ]
  },
  {
   "cell_type": "markdown",
   "metadata": {
    "deletable": true,
    "editable": true
   },
   "source": [
    "## Explore the Data\n",
    "The dataset is broken into batches to prevent your machine from running out of memory.  The CIFAR-10 dataset consists of 5 batches, named `data_batch_1`, `data_batch_2`, etc.. Each batch contains the labels and images that are one of the following:\n",
    "* airplane\n",
    "* automobile\n",
    "* bird\n",
    "* cat\n",
    "* deer\n",
    "* dog\n",
    "* frog\n",
    "* horse\n",
    "* ship\n",
    "* truck\n",
    "\n",
    "Understanding a dataset is part of making predictions on the data.  Play around with the code cell below by changing the `batch_id` and `sample_id`. The `batch_id` is the id for a batch (1-5). The `sample_id` is the id for a image and label pair in the batch.\n",
    "\n",
    "Ask yourself \"What are all possible labels?\", \"What is the range of values for the image data?\", \"Are the labels in order or random?\".  Answers to questions like these will help you preprocess the data and end up with better predictions."
   ]
  },
  {
   "cell_type": "code",
   "execution_count": 2,
   "metadata": {
    "collapsed": false,
    "deletable": true,
    "editable": true
   },
   "outputs": [
    {
     "name": "stdout",
     "output_type": "stream",
     "text": [
      "\n",
      "Stats of batch 1:\n",
      "Samples: 10000\n",
      "Label Counts: {0: 1005, 1: 974, 2: 1032, 3: 1016, 4: 999, 5: 937, 6: 1030, 7: 1001, 8: 1025, 9: 981}\n",
      "First 20 Labels: [6, 9, 9, 4, 1, 1, 2, 7, 8, 3, 4, 7, 7, 2, 9, 9, 9, 3, 2, 6]\n",
      "\n",
      "Example of Image 5:\n",
      "Image - Min Value: 0 Max Value: 252\n",
      "Image - Shape: (32, 32, 3)\n",
      "Label - Label Id: 1 Name: automobile\n"
     ]
    },
    {
     "data": {
      "image/png": "[encoded data removed]",
      "text/plain": [
       "<matplotlib.figure.Figure at 0x2714d66e2b0>"
      ]
     },
     "metadata": {
      "image/png": {
       "height": 250,
       "width": 253
      }
     },
     "output_type": "display_data"
    }
   ],
   "source": [
    "%matplotlib inline\n",
    "%config InlineBackend.figure_format = 'retina'\n",
    "\n",
    "import helper\n",
    "import numpy as np\n",
    "\n",
    "# Explore the dataset\n",
    "batch_id = 1\n",
    "sample_id = 5\n",
    "helper.display_stats(cifar10_dataset_folder_path, batch_id, sample_id)"
   ]
  },
  {
   "cell_type": "markdown",
   "metadata": {
    "deletable": true,
    "editable": true
   },
   "source": [
    "## Implement Preprocess Functions\n",
    "### Normalize\n",
    "In the cell below, implement the `normalize` function to take in image data, `x`, and return it as a normalized Numpy array. The values should be in the range of 0 to 1, inclusive.  The return object should be the same shape as `x`."
   ]
  },
  {
   "cell_type": "code",
   "execution_count": 3,
   "metadata": {
    "collapsed": false,
    "deletable": true,
    "editable": true
   },
   "outputs": [
    {
     "name": "stdout",
     "output_type": "stream",
     "text": [
      "Tests Passed\n"
     ]
    }
   ],
   "source": [
    "def normalize(x):\n",
    "    \"\"\"\n",
    "    Normalize a list of sample image data in the range of 0 to 1\n",
    "    : x: List of image data.  The image shape is (32, 32, 3)\n",
    "    : return: Numpy array of normalize data\n",
    "    \"\"\"\n",
    "    # TODO: Implement Function\n",
    "    x=(x-np.mean(x, axis=0)) / np.std(x, axis=0) # normalizeusing mean and standard deviation\n",
    "    xmax=np.max(x)\n",
    "    xmin=np.min(x)\n",
    "    x=(x-xmin) /(xmax-xmin) # normalize to keep x in range (0, 1)\n",
    "    \n",
    "    return x\n",
    "    # return x/255 # another option for x since pixel values are in (0, 255)\n",
    "\n",
    "\n",
    "\"\"\"\n",
    "DON'T MODIFY ANYTHING IN THIS CELL THAT IS BELOW THIS LINE\n",
    "\"\"\"\n",
    "tests.test_normalize(normalize)"
   ]
  },
  {
   "cell_type": "markdown",
   "metadata": {
    "deletable": true,
    "editable": true
   },
   "source": [
    "### One-hot encode\n",
    "Just like the previous code cell, you'll be implementing a function for preprocessing.  This time, you'll implement the `one_hot_encode` function. The input, `x`, are a list of labels.  Implement the function to return the list of labels as One-Hot encoded Numpy array.  The possible values for labels are 0 to 9. The one-hot encoding function should return the same encoding for each value between each call to `one_hot_encode`.  Make sure to save the map of encodings outside the function.\n",
    "\n",
    "Hint: Don't reinvent the wheel."
   ]
  },
  {
   "cell_type": "code",
   "execution_count": 4,
   "metadata": {
    "collapsed": false,
    "deletable": true,
    "editable": true
   },
   "outputs": [
    {
     "name": "stdout",
     "output_type": "stream",
     "text": [
      "[0 9 2 0 0 9 7 6 0 2 5 9 9 3 4 1 4 8 8 0 6 7 9 7 7 0 3 8 1 3 1 4 3 9 9 1 6\n",
      " 7 8 0 4 5 8 7 7 6 9 9 6 0 0 8 3 2 2 1 1 7 7 0 1 4 8 2 6 9 4 4 9 4 7 8 0 2\n",
      " 1 7 6 3 0 0 9 9 2 8 4 3 8 8 3 6 0 7 3 4 7 1 9 8 2 1 2 2 3 7 7 9 0 5 6 3 1\n",
      " 0 5 7 8 2 7 3 8 0 6 1 0 0 4 1 8 4 1 2 6 3 3 2 0 8 8 2 6 3 1 5 6 1 3 4 3 3\n",
      " 6 7 4 5 0 3 0 3 7 4 3 0 1 6 8 8 4 7 2 1 4 8 0 7 5 1 1 5 6 7 3 7 0 4 4 1 9\n",
      " 0 7 6 5 1 0 7 3 0 6 8 2 1 0 1 8 0 1 7 1 9 0 5 5 8 3 6 1 2 2 3 8 9 6 5 7 1\n",
      " 1 2 8 1 5 5 0 0 9 0 8 9 0 9 2 2 4 5 7 7 5 1 8 7 4 7 6 6 1 9 2 0 1 0 2 8 1\n",
      " 9 5 7 2 3 0 7 6 4 7 6 5 4 5 1 7 9 9 8 3 8 0 5 5 6 4 8 1 3 2 9 0 2 0 9 8 4\n",
      " 6 3 7 4 8 5 4 9 9 2 2 4 4 9 1 8 3 3 5 0 5 9 7 4 9 9 8 9 0 7 2 2 7 7 3 8 2\n",
      " 9 7 8 1 2 8 8 2 6 8 2 3 5 3 6 8 7 0 3 2 5 3 4 4 3 3 6 4 3 0 5 0 7 8 1 6 2\n",
      " 3 1 7 0 2 2 7 2 3 2 4 3 3 9 8 8 0 4 9 1 1 2 6 2 4 4 4 6 6 5 3 1 4 0 5 8 8\n",
      " 4 7 5 5 6 7 8 9 3 4 8 0 4 7 1 0 7 4 1 2 1 9 5 8 3 8 6 1 2 3 6 0 6 6 0 5 4\n",
      " 8 0 1 0 6 5 1 7 1 1 8 5 5 5 3 9 3 1 9 9 1 9 9 7 6 0 2 4 8 4 2 7 0 8 7 3 5\n",
      " 9 0 7 0 6 6 5 4 0 5 7 8 0 9 5 6 8 2 0 8 1 5 1 2 5 6 2 8 5 1 0 2 8 8 0 3 7\n",
      " 9 7 5 9 6 6 8 6 0 2 4 8 6 2 8 8 5 2 9 2 2 5]\n",
      "[[ 1.  0.  0. ...,  0.  0.  0.]\n",
      " [ 0.  0.  0. ...,  0.  0.  1.]\n",
      " [ 0.  0.  1. ...,  0.  0.  0.]\n",
      " ..., \n",
      " [ 0.  0.  1. ...,  0.  0.  0.]\n",
      " [ 0.  0.  1. ...,  0.  0.  0.]\n",
      " [ 0.  0.  0. ...,  0.  0.  0.]]\n",
      "[3 8 2 3 6]\n",
      "[[ 0.  1.  0.  0.]\n",
      " [ 0.  0.  0.  1.]\n",
      " [ 1.  0.  0.  0.]\n",
      " [ 0.  1.  0.  0.]\n",
      " [ 0.  0.  1.  0.]]\n",
      "Tests Passed\n"
     ]
    }
   ],
   "source": [
    "#======================\n",
    "from numpy import array\n",
    "from numpy import argmax\n",
    "from sklearn.preprocessing import LabelEncoder\n",
    "from sklearn.preprocessing import OneHotEncoder\n",
    "from sklearn.preprocessing import LabelBinarizer\n",
    "#======================\n",
    "def one_hot_encode(x):\n",
    "    \"\"\"\n",
    "    One hot encode a list of sample labels. Return a one-hot encoded vector for each label.\n",
    "    : x: List of sample Labels\n",
    "    : return: Numpy array of one-hot encoded labels\n",
    "    \"\"\"\n",
    "    # TODO: Implement Function\n",
    "    #==================\n",
    "    x=np.array(x)\n",
    "    integer_encoded = x\n",
    "    print(integer_encoded)\n",
    "    # binary encode\n",
    "    onehot_encoder = OneHotEncoder(sparse=False)\n",
    "    integer_encoded = integer_encoded.reshape(len(integer_encoded), 1)\n",
    "    onehot_encoded = onehot_encoder.fit_transform(integer_encoded)\n",
    "    print(onehot_encoded)\n",
    "    cifar_labels = LabelBinarizer(0, 1, sparse_output=False)# argument 0=neglabel, 1=positive label\n",
    "    label_types = [0, 1, 2, 3, 4, 5, 6, 7, 8, 9]\n",
    "    cifar_labels.fit(label_types)\n",
    "    #==================\n",
    "    \n",
    "    return cifar_labels.transform(x)\n",
    "\n",
    "\n",
    "\"\"\"\n",
    "DON'T MODIFY ANYTHING IN THIS CELL THAT IS BELOW THIS LINE\n",
    "\"\"\"\n",
    "tests.test_one_hot_encode(one_hot_encode)"
   ]
  },
  {
   "cell_type": "markdown",
   "metadata": {
    "deletable": true,
    "editable": true
   },
   "source": [
    "### Randomize Data\n",
    "As you saw from exploring the data above, the order of the samples are randomized.  It doesn't hurt to randomize it again, but you don't need to for this dataset."
   ]
  },
  {
   "cell_type": "markdown",
   "metadata": {
    "deletable": true,
    "editable": true
   },
   "source": [
    "## Preprocess all the data and save it\n",
    "Running the code cell below will preprocess all the CIFAR-10 data and save it to file. The code below also uses 10% of the training data for validation."
   ]
  },
  {
   "cell_type": "code",
   "execution_count": 5,
   "metadata": {
    "collapsed": false,
    "deletable": true,
    "editable": true
   },
   "outputs": [
    {
     "name": "stdout",
     "output_type": "stream",
     "text": [
      "[6 9 9 ..., 4 8 9]\n",
      "[[ 0.  0.  0. ...,  0.  0.  0.]\n",
      " [ 0.  0.  0. ...,  0.  0.  1.]\n",
      " [ 0.  0.  0. ...,  0.  0.  1.]\n",
      " ..., \n",
      " [ 0.  0.  0. ...,  0.  0.  0.]\n",
      " [ 0.  0.  0. ...,  0.  1.  0.]\n",
      " [ 0.  0.  0. ...,  0.  0.  1.]]\n",
      "[1 6 6 ..., 7 3 0]\n",
      "[[ 0.  1.  0. ...,  0.  0.  0.]\n",
      " [ 0.  0.  0. ...,  0.  0.  0.]\n",
      " [ 0.  0.  0. ...,  0.  0.  0.]\n",
      " ..., \n",
      " [ 0.  0.  0. ...,  1.  0.  0.]\n",
      " [ 0.  0.  0. ...,  0.  0.  0.]\n",
      " [ 1.  0.  0. ...,  0.  0.  0.]]\n",
      "[8 5 0 ..., 5 6 5]\n",
      "[[ 0.  0.  0. ...,  0.  1.  0.]\n",
      " [ 0.  0.  0. ...,  0.  0.  0.]\n",
      " [ 1.  0.  0. ...,  0.  0.  0.]\n",
      " ..., \n",
      " [ 0.  0.  0. ...,  0.  0.  0.]\n",
      " [ 0.  0.  0. ...,  0.  0.  0.]\n",
      " [ 0.  0.  0. ...,  0.  0.  0.]]\n",
      "[0 6 0 ..., 5 9 3]\n",
      "[[ 1.  0.  0. ...,  0.  0.  0.]\n",
      " [ 0.  0.  0. ...,  0.  0.  0.]\n",
      " [ 1.  0.  0. ...,  0.  0.  0.]\n",
      " ..., \n",
      " [ 0.  0.  0. ...,  0.  0.  0.]\n",
      " [ 0.  0.  0. ...,  0.  0.  1.]\n",
      " [ 0.  0.  0. ...,  0.  0.  0.]]\n",
      "[1 8 5 ..., 4 9 3]\n",
      "[[ 0.  1.  0. ...,  0.  0.  0.]\n",
      " [ 0.  0.  0. ...,  0.  1.  0.]\n",
      " [ 0.  0.  0. ...,  0.  0.  0.]\n",
      " ..., \n",
      " [ 0.  0.  0. ...,  0.  0.  0.]\n",
      " [ 0.  0.  0. ...,  0.  0.  1.]\n",
      " [ 0.  0.  0. ...,  0.  0.  0.]]\n",
      "[4 2 2 ..., 9 1 1]\n",
      "[[ 0.  0.  0. ...,  0.  0.  0.]\n",
      " [ 0.  0.  1. ...,  0.  0.  0.]\n",
      " [ 0.  0.  1. ...,  0.  0.  0.]\n",
      " ..., \n",
      " [ 0.  0.  0. ...,  0.  0.  1.]\n",
      " [ 0.  1.  0. ...,  0.  0.  0.]\n",
      " [ 0.  1.  0. ...,  0.  0.  0.]]\n",
      "[3 8 8 ..., 5 1 7]\n",
      "[[ 0.  0.  0. ...,  0.  0.  0.]\n",
      " [ 0.  0.  0. ...,  0.  1.  0.]\n",
      " [ 0.  0.  0. ...,  0.  1.  0.]\n",
      " ..., \n",
      " [ 0.  0.  0. ...,  0.  0.  0.]\n",
      " [ 0.  1.  0. ...,  0.  0.  0.]\n",
      " [ 0.  0.  0. ...,  1.  0.  0.]]\n"
     ]
    }
   ],
   "source": [
    "\"\"\"\n",
    "DON'T MODIFY ANYTHING IN THIS CELL\n",
    "\"\"\"\n",
    "# Preprocess Training, Validation, and Testing Data\n",
    "helper.preprocess_and_save_data(cifar10_dataset_folder_path, normalize, one_hot_encode)"
   ]
  },
  {
   "cell_type": "markdown",
   "metadata": {
    "deletable": true,
    "editable": true
   },
   "source": [
    "# Check Point\n",
    "This is your first checkpoint.  If you ever decide to come back to this notebook or have to restart the notebook, you can start from here.  The preprocessed data has been saved to disk."
   ]
  },
  {
   "cell_type": "code",
   "execution_count": 6,
   "metadata": {
    "collapsed": false,
    "deletable": true,
    "editable": true
   },
   "outputs": [],
   "source": [
    "\"\"\"\n",
    "DON'T MODIFY ANYTHING IN THIS CELL\n",
    "\"\"\"\n",
    "import pickle\n",
    "import problem_unittests as tests\n",
    "import helper\n",
    "\n",
    "# Load the Preprocessed Validation data\n",
    "valid_features, valid_labels = pickle.load(open('preprocess_validation.p', mode='rb'))"
   ]
  },
  {
   "cell_type": "markdown",
   "metadata": {
    "deletable": true,
    "editable": true
   },
   "source": [
    "## Build the network\n",
    "For the neural network, you'll build each layer into a function.  Most of the code you've seen has been outside of functions. To test your code more thoroughly, we require that you put each layer in a function.  This allows us to give you better feedback and test for simple mistakes using our unittests before you submit your project.\n",
    "\n",
    ">**Note:** If you're finding it hard to dedicate enough time for this course each week, we've provided a small shortcut to this part of the project. In the next couple of problems, you'll have the option to use classes from the [TensorFlow Layers](https://www.tensorflow.org/api_docs/python/tf/layers) or [TensorFlow Layers (contrib)](https://www.tensorflow.org/api_guides/python/contrib.layers) packages to build each layer, except the layers you build in the \"Convolutional and Max Pooling Layer\" section.  TF Layers is similar to Keras's and TFLearn's abstraction to layers, so it's easy to pickup.\n",
    "\n",
    ">However, if you would like to get the most out of this course, try to solve all the problems _without_ using anything from the TF Layers packages. You **can** still use classes from other packages that happen to have the same name as ones you find in TF Layers! For example, instead of using the TF Layers version of the `conv2d` class, [tf.layers.conv2d](https://www.tensorflow.org/api_docs/python/tf/layers/conv2d), you would want to use the TF Neural Network version of `conv2d`, [tf.nn.conv2d](https://www.tensorflow.org/api_docs/python/tf/nn/conv2d). \n",
    "\n",
    "Let's begin!\n",
    "\n",
    "### Input\n",
    "The neural network needs to read the image data, one-hot encoded labels, and dropout keep probability. Implement the following functions\n",
    "* Implement `neural_net_image_input`\n",
    " * Return a [TF Placeholder](https://www.tensorflow.org/api_docs/python/tf/placeholder)\n",
    " * Set the shape using `image_shape` with batch size set to `None`.\n",
    " * Name the TensorFlow placeholder \"x\" using the TensorFlow `name` parameter in the [TF Placeholder](https://www.tensorflow.org/api_docs/python/tf/placeholder).\n",
    "* Implement `neural_net_label_input`\n",
    " * Return a [TF Placeholder](https://www.tensorflow.org/api_docs/python/tf/placeholder)\n",
    " * Set the shape using `n_classes` with batch size set to `None`.\n",
    " * Name the TensorFlow placeholder \"y\" using the TensorFlow `name` parameter in the [TF Placeholder](https://www.tensorflow.org/api_docs/python/tf/placeholder).\n",
    "* Implement `neural_net_keep_prob_input`\n",
    " * Return a [TF Placeholder](https://www.tensorflow.org/api_docs/python/tf/placeholder) for dropout keep probability.\n",
    " * Name the TensorFlow placeholder \"keep_prob\" using the TensorFlow `name` parameter in the [TF Placeholder](https://www.tensorflow.org/api_docs/python/tf/placeholder).\n",
    "\n",
    "These names will be used at the end of the project to load your saved model.\n",
    "\n",
    "Note: `None` for shapes in TensorFlow allow for a dynamic size."
   ]
  },
  {
   "cell_type": "code",
   "execution_count": 7,
   "metadata": {
    "collapsed": false,
    "deletable": true,
    "editable": true
   },
   "outputs": [
    {
     "name": "stdout",
     "output_type": "stream",
     "text": [
      "Image Input Tests Passed.\n",
      "Label Input Tests Passed.\n",
      "Keep Prob Tests Passed.\n"
     ]
    }
   ],
   "source": [
    "import tensorflow as tf\n",
    "\n",
    "def neural_net_image_input(image_shape):\n",
    "    \"\"\"\n",
    "    Return a Tensor for a batch of image input\n",
    "    : image_shape: Shape of the images\n",
    "    : return: Tensor for image input.\n",
    "    \"\"\"\n",
    "    # TODO: Implement Function\n",
    "    if len(image_shape)>3:\n",
    "        print(\"Input error - provide only three arguments:height, width, and depth\")\n",
    "    else:\n",
    "        height = image_shape[0]\n",
    "        width = image_shape[1]\n",
    "        depth = image_shape[2]\n",
    "    # First argument value below of \"None\" means batch size can be any size\n",
    "    \n",
    "    img_shape_inp = tf.placeholder(tf.float32, shape=(None, height, width, depth), name= 'x')\n",
    "    \n",
    "    return img_shape_inp  \n",
    "\n",
    "\n",
    "def neural_net_label_input(n_classes):\n",
    "    \"\"\"\n",
    "    Return a Tensor for a batch of label input\n",
    "    : n_classes: Number of classes\n",
    "    : return: Tensor for label input.\n",
    "    \"\"\"\n",
    "    # TODO: Implement Function\n",
    "    \n",
    "    label_inp = tf.placeholder(tf.float32, shape=(None, n_classes), name= 'y')\n",
    "    \n",
    "    return label_inp\n",
    "\n",
    "\n",
    "def neural_net_keep_prob_input():\n",
    "    \"\"\"\n",
    "    Return a Tensor for keep probability\n",
    "    : return: Tensor for keep probability.\n",
    "    \"\"\"\n",
    "    # TODO: Implement Function\n",
    "    \n",
    "    prob_inp = tf.placeholder(tf.float32, name = 'keep_prob')\n",
    "    \n",
    "    return prob_inp\n",
    "\n",
    "\n",
    "\"\"\"\n",
    "DON'T MODIFY ANYTHING IN THIS CELL THAT IS BELOW THIS LINE\n",
    "\"\"\"\n",
    "tf.reset_default_graph()\n",
    "tests.test_nn_image_inputs(neural_net_image_input)\n",
    "tests.test_nn_label_inputs(neural_net_label_input)\n",
    "tests.test_nn_keep_prob_inputs(neural_net_keep_prob_input)"
   ]
  },
  {
   "cell_type": "markdown",
   "metadata": {
    "deletable": true,
    "editable": true
   },
   "source": [
    "### Convolution and Max Pooling Layer\n",
    "Convolution layers have a lot of success with images. For this code cell, you should implement the function `conv2d_maxpool` to apply convolution then max pooling:\n",
    "* Create the weight and bias using `conv_ksize`, `conv_num_outputs` and the shape of `x_tensor`.\n",
    "* Apply a convolution to `x_tensor` using weight and `conv_strides`.\n",
    " * We recommend you use same padding, but you're welcome to use any padding.\n",
    "* Add bias\n",
    "* Add a nonlinear activation to the convolution.\n",
    "* Apply Max Pooling using `pool_ksize` and `pool_strides`.\n",
    " * We recommend you use same padding, but you're welcome to use any padding.\n",
    "\n",
    "**Note:** You **can't** use [TensorFlow Layers](https://www.tensorflow.org/api_docs/python/tf/layers) or [TensorFlow Layers (contrib)](https://www.tensorflow.org/api_guides/python/contrib.layers) for **this** layer, but you can still use TensorFlow's [Neural Network](https://www.tensorflow.org/api_docs/python/tf/nn) package. You may still use the shortcut option for all the **other** layers."
   ]
  },
  {
   "cell_type": "code",
   "execution_count": 8,
   "metadata": {
    "collapsed": false,
    "editable": true
   },
   "outputs": [
    {
     "name": "stdout",
     "output_type": "stream",
     "text": [
      "Tests Passed\n"
     ]
    }
   ],
   "source": [
    "def conv2d_maxpool(x_tensor, conv_num_outputs, conv_ksize, conv_strides, pool_ksize, pool_strides):\n",
    "    \"\"\"\n",
    "    Apply convolution then max pooling to x_tensor\n",
    "    :param x_tensor: TensorFlow Tensor\n",
    "    :param conv_num_outputs: Number of outputs for the convolutional layer\n",
    "    :param conv_ksize: kernel size 2-D Tuple for the convolutional layer\n",
    "    :param conv_strides: Stride 2-D Tuple for convolution\n",
    "    :param pool_ksize: kernel size 2-D Tuple for pool\n",
    "    :param pool_strides: Stride 2-D Tuple for pool\n",
    "    : return: A tensor that represents convolution and max pooling of x_tensor\n",
    "    \"\"\"\n",
    "    # TODO: Implement Function\n",
    "    inp_depth = x_tensor.get_shape()[3].value\n",
    "    img_height, img_width = conv_ksize\n",
    "    \n",
    "    # calculate bias and weights using the conv_num_outputs parameter. Zero-out the biases.\n",
    "    bias = tf.Variable(tf.zeros(conv_num_outputs))\n",
    "    weight = tf.Variable(tf.truncated_normal((img_height, img_width, inp_depth, conv_num_outputs)))\n",
    "\n",
    "    # convolution layer\n",
    "    conv_height, conv_width = conv_strides\n",
    "    \n",
    "    conv_layer = tf.nn.conv2d(x_tensor, weight, strides=[1, conv_height, conv_width, 1], padding ='SAME')\n",
    "    conv_layer = tf.nn.bias_add(conv_layer, bias)\n",
    "    conv_layer = tf.nn.relu(conv_layer)\n",
    "\n",
    "    # max_pool layer\n",
    "    kernel_height = pool_ksize[0]\n",
    "    kernel_width = pool_ksize[1]\n",
    "\n",
    "    pool_height = pool_strides[0]\n",
    "    pool_width = pool_strides[1]\n",
    "    \n",
    "    conv_layer = tf.nn.max_pool(conv_layer, ksize=[1, kernel_height, kernel_width, 1], strides=[1, pool_height, pool_width, 1], padding='SAME')\n",
    "    \n",
    "    return conv_layer \n",
    "    \n",
    "\n",
    "\"\"\"\n",
    "DON'T MODIFY ANYTHING IN THIS CELL THAT IS BELOW THIS LINE\n",
    "\"\"\"\n",
    "tests.test_con_pool(conv2d_maxpool)"
   ]
  },
  {
   "cell_type": "markdown",
   "metadata": {
    "deletable": true,
    "editable": true
   },
   "source": [
    "### Flatten Layer\n",
    "Implement the `flatten` function to change the dimension of `x_tensor` from a 4-D tensor to a 2-D tensor.  The output should be the shape (*Batch Size*, *Flattened Image Size*). Shortcut option: you can use classes from the [TensorFlow Layers](https://www.tensorflow.org/api_docs/python/tf/layers) or [TensorFlow Layers (contrib)](https://www.tensorflow.org/api_guides/python/contrib.layers) packages for this layer. For more of a challenge, only use other TensorFlow packages."
   ]
  },
  {
   "cell_type": "code",
   "execution_count": 9,
   "metadata": {
    "collapsed": false,
    "deletable": true,
    "editable": true
   },
   "outputs": [
    {
     "name": "stdout",
     "output_type": "stream",
     "text": [
      "Tests Passed\n"
     ]
    }
   ],
   "source": [
    "\n",
    "def flatten(x_tensor):\n",
    "    \"\"\"\n",
    "    Flatten x_tensor to (Batch Size, Flattened Image Size)\n",
    "    : x_tensor: A tensor of size (Batch Size, ...), where ... are the image dimensions.\n",
    "    : return: A tensor of size (Batch Size, Flattened Image Size).\n",
    "    \"\"\"\n",
    "    # TODO: Implement Function\n",
    "    # See https://www.tensorflow.org/api_docs/python/tf/contrib/layers/flatten\n",
    "    \n",
    "    return tf.contrib.layers.flatten(x_tensor)\n",
    "    \n",
    "\n",
    "\"\"\"\n",
    "DON'T MODIFY ANYTHING IN THIS CELL THAT IS BELOW THIS LINE\n",
    "\"\"\"\n",
    "tests.test_flatten(flatten)"
   ]
  },
  {
   "cell_type": "markdown",
   "metadata": {
    "deletable": true,
    "editable": true
   },
   "source": [
    "### Fully-Connected Layer\n",
    "Implement the `fully_conn` function to apply a fully connected layer to `x_tensor` with the shape (*Batch Size*, *num_outputs*). Shortcut option: you can use classes from the [TensorFlow Layers](https://www.tensorflow.org/api_docs/python/tf/layers) or [TensorFlow Layers (contrib)](https://www.tensorflow.org/api_guides/python/contrib.layers) packages for this layer. For more of a challenge, only use other TensorFlow packages."
   ]
  },
  {
   "cell_type": "code",
   "execution_count": 10,
   "metadata": {
    "collapsed": false,
    "deletable": true,
    "editable": true
   },
   "outputs": [
    {
     "name": "stdout",
     "output_type": "stream",
     "text": [
      "Tests Passed\n"
     ]
    }
   ],
   "source": [
    "def fully_conn(x_tensor, num_outputs):\n",
    "    \"\"\"\n",
    "    Apply a fully connected layer to x_tensor using weight and bias\n",
    "    : x_tensor: A 2-D tensor where the first dimension is batch size.\n",
    "    : num_outputs: The number of output that the new tensor should be.\n",
    "    : return: A 2-D tensor where the second dimension is num_outputs.\n",
    "    \"\"\"\n",
    "    # TODO: Implement Function\n",
    "    # See argument definitions above.\n",
    "    # See https://www.tensorflow.org/api_docs/python/tf/contrib/layers/fully_connected\n",
    "    \n",
    "    return tf.contrib.layers.fully_connected(x_tensor, num_outputs)\n",
    "\n",
    "\n",
    "\"\"\"\n",
    "DON'T MODIFY ANYTHING IN THIS CELL THAT IS BELOW THIS LINE\n",
    "\"\"\"\n",
    "tests.test_fully_conn(fully_conn)"
   ]
  },
  {
   "cell_type": "markdown",
   "metadata": {
    "deletable": true,
    "editable": true
   },
   "source": [
    "### Output Layer\n",
    "Implement the `output` function to apply a fully connected layer to `x_tensor` with the shape (*Batch Size*, *num_outputs*). Shortcut option: you can use classes from the [TensorFlow Layers](https://www.tensorflow.org/api_docs/python/tf/layers) or [TensorFlow Layers (contrib)](https://www.tensorflow.org/api_guides/python/contrib.layers) packages for this layer. For more of a challenge, only use other TensorFlow packages.\n",
    "\n",
    "**Note:** Activation, softmax, or cross entropy should **not** be applied to this."
   ]
  },
  {
   "cell_type": "code",
   "execution_count": 11,
   "metadata": {
    "collapsed": false,
    "deletable": true,
    "editable": true
   },
   "outputs": [
    {
     "name": "stdout",
     "output_type": "stream",
     "text": [
      "Tests Passed\n"
     ]
    }
   ],
   "source": [
    "def output(x_tensor, num_outputs):\n",
    "    \"\"\"\n",
    "    Apply a output layer to x_tensor using weight and bias\n",
    "    : x_tensor: A 2-D tensor where the first dimension is batch size.\n",
    "    : num_outputs: The number of output that the new tensor should be.\n",
    "    : return: A 2-D tensor where the second dimension is num_outputs.\n",
    "    \"\"\"\n",
    "    # TODO: Implement Function\n",
    "    # See argument definitions above\n",
    "    # See https://www.tensorflow.org/tutorials/layers (look at #Dense Layer segment)\n",
    "    \n",
    "    return tf.layers.dense(inputs=x_tensor, units=num_outputs, activation=None)\n",
    "\n",
    "\n",
    "\"\"\"\n",
    "DON'T MODIFY ANYTHING IN THIS CELL THAT IS BELOW THIS LINE\n",
    "\"\"\"\n",
    "tests.test_output(output)"
   ]
  },
  {
   "cell_type": "markdown",
   "metadata": {
    "deletable": true,
    "editable": true
   },
   "source": [
    "### Create Convolutional Model\n",
    "Implement the function `conv_net` to create a convolutional neural network model. The function takes in a batch of images, `x`, and outputs logits.  Use the layers you created above to create this model:\n",
    "\n",
    "* Apply 1, 2, or 3 Convolution and Max Pool layers\n",
    "* Apply a Flatten Layer\n",
    "* Apply 1, 2, or 3 Fully Connected Layers\n",
    "* Apply an Output Layer\n",
    "* Return the output\n",
    "* Apply [TensorFlow's Dropout](https://www.tensorflow.org/api_docs/python/tf/nn/dropout) to one or more layers in the model using `keep_prob`. "
   ]
  },
  {
   "cell_type": "code",
   "execution_count": 12,
   "metadata": {
    "collapsed": false,
    "deletable": true,
    "editable": true
   },
   "outputs": [
    {
     "name": "stdout",
     "output_type": "stream",
     "text": [
      "Neural Network Built!\n"
     ]
    }
   ],
   "source": [
    "def conv_net(x, keep_prob):\n",
    "    \"\"\"\n",
    "    Create a convolutional neural network model\n",
    "    : x: Placeholder tensor that holds image data.\n",
    "    : keep_prob: Placeholder tensor that hold dropout keep probability.\n",
    "    : return: Tensor that represents logits\n",
    "    \"\"\"\n",
    "    # TODO: Apply 1, 2, or 3 Convolution and Max Pool layers\n",
    "    #    Play around with different number of outputs, kernel size and stride\n",
    "    # Function Definition from Above:\n",
    "    # conv2d_maxpool(x_tensor, conv_num_outputs, conv_ksize, conv_strides, pool_ksize, pool_strides)\n",
    "   \n",
    "    x = conv2d_maxpool(x, 24, (4, 4), (1, 1), (2, 2), (2, 2))\n",
    "   \n",
    "    # TODO: Apply a Flatten Layer\n",
    "    # Function Definition from Above:\n",
    "    #   flatten(x_tensor)\n",
    "    \n",
    "    x = flatten(x)\n",
    "\n",
    "    # TODO: Apply 1, 2, or 3 Fully Connected Layers\n",
    "    #    Play around with different number of outputs\n",
    "    # Function Definition from Above:\n",
    "    #   fully_conn(x_tensor, num_outputs)\n",
    "    \n",
    "    x = fully_conn(x, 1024)\n",
    "    \n",
    "    x = tf.nn.dropout(x, keep_prob)\n",
    "    \n",
    "    # TODO: Apply an Output Layer\n",
    "    #    Set this to the number of classes\n",
    "    # Function Definition from Above:\n",
    "    #   output(x_tensor, num_outputs)    \n",
    "    \n",
    "    # TODO: return output\n",
    "    \n",
    "    return output(x, 10)\n",
    "\n",
    "\n",
    "\"\"\"\n",
    "DON'T MODIFY ANYTHING IN THIS CELL THAT IS BELOW THIS LINE\n",
    "\"\"\"\n",
    "\n",
    "##############################\n",
    "## Build the Neural Network ##\n",
    "##############################\n",
    "\n",
    "# Remove previous weights, bias, inputs, etc..\n",
    "tf.reset_default_graph()\n",
    "\n",
    "# Inputs\n",
    "x = neural_net_image_input((32, 32, 3))\n",
    "y = neural_net_label_input(10)\n",
    "keep_prob = neural_net_keep_prob_input()\n",
    "\n",
    "# Model\n",
    "logits = conv_net(x, keep_prob)\n",
    "\n",
    "# Name logits Tensor, so that is can be loaded from disk after training\n",
    "logits = tf.identity(logits, name='logits')\n",
    "\n",
    "# Loss and Optimizer\n",
    "cost = tf.reduce_mean(tf.nn.softmax_cross_entropy_with_logits(logits=logits, labels=y))\n",
    "optimizer = tf.train.AdamOptimizer().minimize(cost)\n",
    "\n",
    "# Accuracy\n",
    "correct_pred = tf.equal(tf.argmax(logits, 1), tf.argmax(y, 1))\n",
    "accuracy = tf.reduce_mean(tf.cast(correct_pred, tf.float32), name='accuracy')\n",
    "\n",
    "tests.test_conv_net(conv_net)"
   ]
  },
  {
   "cell_type": "markdown",
   "metadata": {
    "deletable": true,
    "editable": true
   },
   "source": [
    "## Train the Neural Network\n",
    "### Single Optimization\n",
    "Implement the function `train_neural_network` to do a single optimization.  The optimization should use `optimizer` to optimize in `session` with a `feed_dict` of the following:\n",
    "* `x` for image input\n",
    "* `y` for labels\n",
    "* `keep_prob` for keep probability for dropout\n",
    "\n",
    "This function will be called for each batch, so `tf.global_variables_initializer()` has already been called.\n",
    "\n",
    "Note: Nothing needs to be returned. This function is only optimizing the neural network."
   ]
  },
  {
   "cell_type": "code",
   "execution_count": 13,
   "metadata": {
    "collapsed": false,
    "deletable": true,
    "editable": true
   },
   "outputs": [
    {
     "name": "stdout",
     "output_type": "stream",
     "text": [
      "Tests Passed\n"
     ]
    }
   ],
   "source": [
    "def train_neural_network(session, optimizer, keep_probability, feature_batch, label_batch):\n",
    "    \"\"\"\n",
    "    Optimize the session on a batch of images and labels\n",
    "    : session: Current TensorFlow session\n",
    "    : optimizer: TensorFlow optimizer function\n",
    "    : keep_probability: keep probability\n",
    "    : feature_batch: Batch of Numpy image data \n",
    "    : label_batch: Batch of Numpy label data\n",
    "    \"\"\"\n",
    "    # TODO: Implement Function\n",
    "    session.run(optimizer, feed_dict={x: feature_batch, y: label_batch, keep_prob: keep_probability})\n",
    "    #pass\n",
    "\n",
    "\n",
    "\"\"\"\n",
    "DON'T MODIFY ANYTHING IN THIS CELL THAT IS BELOW THIS LINE\n",
    "\"\"\"\n",
    "tests.test_train_nn(train_neural_network)"
   ]
  },
  {
   "cell_type": "markdown",
   "metadata": {
    "deletable": true,
    "editable": true
   },
   "source": [
    "### Show Stats\n",
    "Implement the function `print_stats` to print loss and validation accuracy.  Use the global variables `valid_features` and `valid_labels` to calculate validation accuracy.  Use a keep probability of `1.0` to calculate the loss and validation accuracy."
   ]
  },
  {
   "cell_type": "code",
   "execution_count": 14,
   "metadata": {
    "collapsed": false,
    "deletable": true,
    "editable": true
   },
   "outputs": [],
   "source": [
    "def print_stats(session, feature_batch, label_batch, cost, accuracy):\n",
    "    \"\"\"\n",
    "    Print information about loss and validation accuracy\n",
    "    : session: Current TensorFlow session\n",
    "    : feature_batch: Batch of Numpy image data\n",
    "    : label_batch: Batch of Numpy label data\n",
    "    : cost: TensorFlow cost function\n",
    "    : accuracy: TensorFlow accuracy function\n",
    "    \"\"\"\n",
    "    # TODO: Implement Function\n",
    "    loss = sess.run(cost, feed_dict={x: feature_batch, y: label_batch, keep_prob: 1})\n",
    "    valid_acc = sess.run(accuracy, feed_dict={x: valid_features, y: valid_labels, keep_prob: 1})\n",
    "    print(\"loss= \", loss, \" validation_accuracy= \", valid_acc)\n",
    "    \n",
    "    #pass"
   ]
  },
  {
   "cell_type": "markdown",
   "metadata": {
    "deletable": true,
    "editable": true
   },
   "source": [
    "### Hyperparameters\n",
    "Tune the following parameters:\n",
    "* Set `epochs` to the number of iterations until the network stops learning or start overfitting\n",
    "* Set `batch_size` to the highest number that your machine has memory for.  Most people set them to common sizes of memory:\n",
    " * 64\n",
    " * 128\n",
    " * 256\n",
    " * ...\n",
    "* Set `keep_probability` to the probability of keeping a node using dropout"
   ]
  },
  {
   "cell_type": "code",
   "execution_count": 15,
   "metadata": {
    "collapsed": true,
    "deletable": true,
    "editable": true
   },
   "outputs": [],
   "source": [
    "# TODO: Tune Parameters\n",
    "epochs = 25\n",
    "batch_size = 128\n",
    "keep_probability = 0.8"
   ]
  },
  {
   "cell_type": "markdown",
   "metadata": {
    "deletable": true,
    "editable": true
   },
   "source": [
    "### Train on a Single CIFAR-10 Batch\n",
    "Instead of training the neural network on all the CIFAR-10 batches of data, let's use a single batch. This should save time while you iterate on the model to get a better accuracy.  Once the final validation accuracy is 50% or greater, run the model on all the data in the next section."
   ]
  },
  {
   "cell_type": "code",
   "execution_count": 16,
   "metadata": {
    "collapsed": false,
    "deletable": true,
    "editable": true
   },
   "outputs": [
    {
     "name": "stdout",
     "output_type": "stream",
     "text": [
      "Checking the Training on a Single Batch...\n",
      "Epoch  1, CIFAR-10 Batch 1:  loss=  2.10342  validation_accuracy=  0.2804\n",
      "Epoch  2, CIFAR-10 Batch 1:  loss=  1.84657  validation_accuracy=  0.3768\n",
      "Epoch  3, CIFAR-10 Batch 1:  loss=  1.71388  validation_accuracy=  0.4462\n",
      "Epoch  4, CIFAR-10 Batch 1:  loss=  1.47519  validation_accuracy=  0.4666\n",
      "Epoch  5, CIFAR-10 Batch 1:  loss=  1.26423  validation_accuracy=  0.4786\n",
      "Epoch  6, CIFAR-10 Batch 1:  loss=  1.09799  validation_accuracy=  0.4896\n",
      "Epoch  7, CIFAR-10 Batch 1:  loss=  1.02975  validation_accuracy=  0.4916\n",
      "Epoch  8, CIFAR-10 Batch 1:  loss=  0.908936  validation_accuracy=  0.5122\n",
      "Epoch  9, CIFAR-10 Batch 1:  loss=  0.827496  validation_accuracy=  0.5126\n",
      "Epoch 10, CIFAR-10 Batch 1:  loss=  0.776764  validation_accuracy=  0.5272\n",
      "Epoch 11, CIFAR-10 Batch 1:  loss=  0.704071  validation_accuracy=  0.5286\n",
      "Epoch 12, CIFAR-10 Batch 1:  loss=  0.701931  validation_accuracy=  0.5266\n",
      "Epoch 13, CIFAR-10 Batch 1:  loss=  0.636993  validation_accuracy=  0.5216\n",
      "Epoch 14, CIFAR-10 Batch 1:  loss=  0.622159  validation_accuracy=  0.518\n",
      "Epoch 15, CIFAR-10 Batch 1:  loss=  0.558097  validation_accuracy=  0.5198\n",
      "Epoch 16, CIFAR-10 Batch 1:  loss=  0.519466  validation_accuracy=  0.5384\n",
      "Epoch 17, CIFAR-10 Batch 1:  loss=  0.460751  validation_accuracy=  0.5294\n",
      "Epoch 18, CIFAR-10 Batch 1:  loss=  0.48095  validation_accuracy=  0.5172\n",
      "Epoch 19, CIFAR-10 Batch 1:  loss=  0.421272  validation_accuracy=  0.5226\n",
      "Epoch 20, CIFAR-10 Batch 1:  loss=  0.386414  validation_accuracy=  0.5106\n",
      "Epoch 21, CIFAR-10 Batch 1:  loss=  0.402537  validation_accuracy=  0.521\n",
      "Epoch 22, CIFAR-10 Batch 1:  loss=  0.304098  validation_accuracy=  0.5336\n",
      "Epoch 23, CIFAR-10 Batch 1:  loss=  0.337621  validation_accuracy=  0.534\n",
      "Epoch 24, CIFAR-10 Batch 1:  loss=  0.334412  validation_accuracy=  0.5368\n",
      "Epoch 25, CIFAR-10 Batch 1:  loss=  0.28952  validation_accuracy=  0.534\n"
     ]
    }
   ],
   "source": [
    "\"\"\"\n",
    "DON'T MODIFY ANYTHING IN THIS CELL\n",
    "\"\"\"\n",
    "print('Checking the Training on a Single Batch...')\n",
    "with tf.Session() as sess:\n",
    "    # Initializing the variables\n",
    "    sess.run(tf.global_variables_initializer())\n",
    "\n",
    "    # Training cycle\n",
    "    for epoch in range(epochs):\n",
    "        batch_i = 1\n",
    "        for batch_features, batch_labels in helper.load_preprocess_training_batch(batch_i, batch_size):\n",
    "            train_neural_network(sess, optimizer, keep_probability, batch_features, batch_labels)\n",
    "        print('Epoch {:>2}, CIFAR-10 Batch {}:  '.format(epoch + 1, batch_i), end='')\n",
    "        print_stats(sess, batch_features, batch_labels, cost, accuracy)\n"
   ]
  },
  {
   "cell_type": "markdown",
   "metadata": {},
   "source": [
    "**********************************************************************\n",
    "[MD Alamgir 7/19/2017] **Why use AdamOptimizer and when is it appropriate?** (https://arxiv.org/pdf/1206.5533.pdf) See https://stats.stackexchange.com/questions/184448/difference-between-gradientdescentoptimizer-and-adamoptimizer-tensorflow for the discussion included below:\n",
    "\n",
    "The tf.train.AdamOptimizer uses Kingma and Ba's Adam algorithm to control the learning rate. Adam offers several advantages over the simple tf.train.GradientDescentOptimizer. Foremost is that it uses moving averages of the parameters (momentum); Bengio discusses the reasons for why this is beneficial in Section 3.1.1 of this paper. Simply put, this enables Adam to use a larger effective step size, and the algorithm will converge to this step size without fine tuning.\n",
    "The main down side of the algorithm is that Adam requires more computation to be performed for each parameter in each training step (to maintain the moving averages and variance, and calculate the scaled gradient); and more state to be retained for each parameter (approximately tripling the size of the model to store the average and variance for each parameter). A simple tf.train.GradientDescentOptimizer could equally be used in your MLP, but would require more hyperparameter tuning before it would converge as quickly.\n",
    "************************************************************************"
   ]
  },
  {
   "cell_type": "markdown",
   "metadata": {
    "deletable": true,
    "editable": true
   },
   "source": [
    "### Fully Train the Model\n",
    "Now that you got a good accuracy with a single CIFAR-10 batch, try it with all five batches."
   ]
  },
  {
   "cell_type": "code",
   "execution_count": 17,
   "metadata": {
    "collapsed": false,
    "deletable": true,
    "editable": true
   },
   "outputs": [
    {
     "name": "stdout",
     "output_type": "stream",
     "text": [
      "Training...\n",
      "Epoch  1, CIFAR-10 Batch 1:  loss=  1.97641  validation_accuracy=  0.3564\n",
      "Epoch  1, CIFAR-10 Batch 2:  loss=  1.69885  validation_accuracy=  0.423\n",
      "Epoch  1, CIFAR-10 Batch 3:  loss=  1.43581  validation_accuracy=  0.4474\n",
      "Epoch  1, CIFAR-10 Batch 4:  loss=  1.39229  validation_accuracy=  0.4802\n",
      "Epoch  1, CIFAR-10 Batch 5:  loss=  1.50407  validation_accuracy=  0.5048\n",
      "Epoch  2, CIFAR-10 Batch 1:  loss=  1.50737  validation_accuracy=  0.4996\n",
      "Epoch  2, CIFAR-10 Batch 2:  loss=  1.26614  validation_accuracy=  0.518\n",
      "Epoch  2, CIFAR-10 Batch 3:  loss=  1.04419  validation_accuracy=  0.5196\n",
      "Epoch  2, CIFAR-10 Batch 4:  loss=  1.09629  validation_accuracy=  0.541\n",
      "Epoch  2, CIFAR-10 Batch 5:  loss=  1.17107  validation_accuracy=  0.551\n",
      "Epoch  3, CIFAR-10 Batch 1:  loss=  1.12165  validation_accuracy=  0.5452\n",
      "Epoch  3, CIFAR-10 Batch 2:  loss=  1.07477  validation_accuracy=  0.5514\n",
      "Epoch  3, CIFAR-10 Batch 3:  loss=  0.822624  validation_accuracy=  0.5538\n",
      "Epoch  3, CIFAR-10 Batch 4:  loss=  0.895716  validation_accuracy=  0.563\n",
      "Epoch  3, CIFAR-10 Batch 5:  loss=  0.944487  validation_accuracy=  0.5734\n",
      "Epoch  4, CIFAR-10 Batch 1:  loss=  1.06322  validation_accuracy=  0.5816\n",
      "Epoch  4, CIFAR-10 Batch 2:  loss=  0.854198  validation_accuracy=  0.5682\n",
      "Epoch  4, CIFAR-10 Batch 3:  loss=  0.635304  validation_accuracy=  0.574\n",
      "Epoch  4, CIFAR-10 Batch 4:  loss=  0.791402  validation_accuracy=  0.586\n",
      "Epoch  4, CIFAR-10 Batch 5:  loss=  0.832294  validation_accuracy=  0.5874\n",
      "Epoch  5, CIFAR-10 Batch 1:  loss=  0.910906  validation_accuracy=  0.6\n",
      "Epoch  5, CIFAR-10 Batch 2:  loss=  0.712579  validation_accuracy=  0.5888\n",
      "Epoch  5, CIFAR-10 Batch 3:  loss=  0.546138  validation_accuracy=  0.5816\n",
      "Epoch  5, CIFAR-10 Batch 4:  loss=  0.624029  validation_accuracy=  0.6002\n",
      "Epoch  5, CIFAR-10 Batch 5:  loss=  0.688325  validation_accuracy=  0.5986\n",
      "Epoch  6, CIFAR-10 Batch 1:  loss=  0.84872  validation_accuracy=  0.5994\n",
      "Epoch  6, CIFAR-10 Batch 2:  loss=  0.656257  validation_accuracy=  0.5934\n",
      "Epoch  6, CIFAR-10 Batch 3:  loss=  0.473265  validation_accuracy=  0.5972\n",
      "Epoch  6, CIFAR-10 Batch 4:  loss=  0.5601  validation_accuracy=  0.6086\n",
      "Epoch  6, CIFAR-10 Batch 5:  loss=  0.516845  validation_accuracy=  0.6026\n",
      "Epoch  7, CIFAR-10 Batch 1:  loss=  0.723233  validation_accuracy=  0.61\n",
      "Epoch  7, CIFAR-10 Batch 2:  loss=  0.479509  validation_accuracy=  0.605\n",
      "Epoch  7, CIFAR-10 Batch 3:  loss=  0.406909  validation_accuracy=  0.5964\n",
      "Epoch  7, CIFAR-10 Batch 4:  loss=  0.475406  validation_accuracy=  0.6138\n",
      "Epoch  7, CIFAR-10 Batch 5:  loss=  0.495664  validation_accuracy=  0.6138\n",
      "Epoch  8, CIFAR-10 Batch 1:  loss=  0.627108  validation_accuracy=  0.6082\n",
      "Epoch  8, CIFAR-10 Batch 2:  loss=  0.4141  validation_accuracy=  0.6074\n",
      "Epoch  8, CIFAR-10 Batch 3:  loss=  0.311048  validation_accuracy=  0.614\n",
      "Epoch  8, CIFAR-10 Batch 4:  loss=  0.399837  validation_accuracy=  0.6182\n",
      "Epoch  8, CIFAR-10 Batch 5:  loss=  0.415849  validation_accuracy=  0.6188\n",
      "Epoch  9, CIFAR-10 Batch 1:  loss=  0.52291  validation_accuracy=  0.6156\n",
      "Epoch  9, CIFAR-10 Batch 2:  loss=  0.362415  validation_accuracy=  0.6152\n",
      "Epoch  9, CIFAR-10 Batch 3:  loss=  0.312987  validation_accuracy=  0.6098\n",
      "Epoch  9, CIFAR-10 Batch 4:  loss=  0.352592  validation_accuracy=  0.619\n",
      "Epoch  9, CIFAR-10 Batch 5:  loss=  0.380584  validation_accuracy=  0.6066\n",
      "Epoch 10, CIFAR-10 Batch 1:  loss=  0.453201  validation_accuracy=  0.6144\n",
      "Epoch 10, CIFAR-10 Batch 2:  loss=  0.3395  validation_accuracy=  0.617\n",
      "Epoch 10, CIFAR-10 Batch 3:  loss=  0.239243  validation_accuracy=  0.617\n",
      "Epoch 10, CIFAR-10 Batch 4:  loss=  0.301393  validation_accuracy=  0.6178\n",
      "Epoch 10, CIFAR-10 Batch 5:  loss=  0.32162  validation_accuracy=  0.6142\n",
      "Epoch 11, CIFAR-10 Batch 1:  loss=  0.414954  validation_accuracy=  0.6238\n",
      "Epoch 11, CIFAR-10 Batch 2:  loss=  0.279945  validation_accuracy=  0.6244\n",
      "Epoch 11, CIFAR-10 Batch 3:  loss=  0.21717  validation_accuracy=  0.6188\n",
      "Epoch 11, CIFAR-10 Batch 4:  loss=  0.278016  validation_accuracy=  0.6182\n",
      "Epoch 11, CIFAR-10 Batch 5:  loss=  0.344059  validation_accuracy=  0.6104\n",
      "Epoch 12, CIFAR-10 Batch 1:  loss=  0.348825  validation_accuracy=  0.6156\n",
      "Epoch 12, CIFAR-10 Batch 2:  loss=  0.247885  validation_accuracy=  0.6148\n",
      "Epoch 12, CIFAR-10 Batch 3:  loss=  0.220745  validation_accuracy=  0.6104\n",
      "Epoch 12, CIFAR-10 Batch 4:  loss=  0.256943  validation_accuracy=  0.6212\n",
      "Epoch 12, CIFAR-10 Batch 5:  loss=  0.306878  validation_accuracy=  0.6076\n",
      "Epoch 13, CIFAR-10 Batch 1:  loss=  0.312583  validation_accuracy=  0.6224\n",
      "Epoch 13, CIFAR-10 Batch 2:  loss=  0.21227  validation_accuracy=  0.6188\n",
      "Epoch 13, CIFAR-10 Batch 3:  loss=  0.150896  validation_accuracy=  0.6182\n",
      "Epoch 13, CIFAR-10 Batch 4:  loss=  0.228438  validation_accuracy=  0.6236\n",
      "Epoch 13, CIFAR-10 Batch 5:  loss=  0.213139  validation_accuracy=  0.6188\n",
      "Epoch 14, CIFAR-10 Batch 1:  loss=  0.237116  validation_accuracy=  0.624\n",
      "Epoch 14, CIFAR-10 Batch 2:  loss=  0.187002  validation_accuracy=  0.6184\n",
      "Epoch 14, CIFAR-10 Batch 3:  loss=  0.14594  validation_accuracy=  0.6138\n",
      "Epoch 14, CIFAR-10 Batch 4:  loss=  0.178633  validation_accuracy=  0.6204\n",
      "Epoch 14, CIFAR-10 Batch 5:  loss=  0.216692  validation_accuracy=  0.594\n",
      "Epoch 15, CIFAR-10 Batch 1:  loss=  0.226752  validation_accuracy=  0.622\n",
      "Epoch 15, CIFAR-10 Batch 2:  loss=  0.154041  validation_accuracy=  0.62\n",
      "Epoch 15, CIFAR-10 Batch 3:  loss=  0.123594  validation_accuracy=  0.623\n",
      "Epoch 15, CIFAR-10 Batch 4:  loss=  0.171048  validation_accuracy=  0.6146\n",
      "Epoch 15, CIFAR-10 Batch 5:  loss=  0.193905  validation_accuracy=  0.6058\n",
      "Epoch 16, CIFAR-10 Batch 1:  loss=  0.197882  validation_accuracy=  0.6208\n",
      "Epoch 16, CIFAR-10 Batch 2:  loss=  0.135845  validation_accuracy=  0.6164\n",
      "Epoch 16, CIFAR-10 Batch 3:  loss=  0.142589  validation_accuracy=  0.6226\n",
      "Epoch 16, CIFAR-10 Batch 4:  loss=  0.146108  validation_accuracy=  0.614\n",
      "Epoch 16, CIFAR-10 Batch 5:  loss=  0.186941  validation_accuracy=  0.5878\n",
      "Epoch 17, CIFAR-10 Batch 1:  loss=  0.187627  validation_accuracy=  0.616\n",
      "Epoch 17, CIFAR-10 Batch 2:  loss=  0.142933  validation_accuracy=  0.6262\n",
      "Epoch 17, CIFAR-10 Batch 3:  loss=  0.111552  validation_accuracy=  0.6186\n",
      "Epoch 17, CIFAR-10 Batch 4:  loss=  0.170245  validation_accuracy=  0.613\n",
      "Epoch 17, CIFAR-10 Batch 5:  loss=  0.207773  validation_accuracy=  0.5772\n",
      "Epoch 18, CIFAR-10 Batch 1:  loss=  0.156478  validation_accuracy=  0.6112\n",
      "Epoch 18, CIFAR-10 Batch 2:  loss=  0.100896  validation_accuracy=  0.6188\n",
      "Epoch 18, CIFAR-10 Batch 3:  loss=  0.106777  validation_accuracy=  0.6288\n",
      "Epoch 18, CIFAR-10 Batch 4:  loss=  0.129277  validation_accuracy=  0.6094\n",
      "Epoch 18, CIFAR-10 Batch 5:  loss=  0.130427  validation_accuracy=  0.5896\n",
      "Epoch 19, CIFAR-10 Batch 1:  loss=  0.169699  validation_accuracy=  0.6052\n",
      "Epoch 19, CIFAR-10 Batch 2:  loss=  0.107872  validation_accuracy=  0.615\n",
      "Epoch 19, CIFAR-10 Batch 3:  loss=  0.0964563  validation_accuracy=  0.6258\n",
      "Epoch 19, CIFAR-10 Batch 4:  loss=  0.124775  validation_accuracy=  0.601\n",
      "Epoch 19, CIFAR-10 Batch 5:  loss=  0.123823  validation_accuracy=  0.601\n",
      "Epoch 20, CIFAR-10 Batch 1:  loss=  0.166118  validation_accuracy=  0.603\n",
      "Epoch 20, CIFAR-10 Batch 2:  loss=  0.0917927  validation_accuracy=  0.6262\n",
      "Epoch 20, CIFAR-10 Batch 3:  loss=  0.0686983  validation_accuracy=  0.6162\n",
      "Epoch 20, CIFAR-10 Batch 4:  loss=  0.102334  validation_accuracy=  0.608\n",
      "Epoch 20, CIFAR-10 Batch 5:  loss=  0.100013  validation_accuracy=  0.5882\n",
      "Epoch 21, CIFAR-10 Batch 1:  loss=  0.149076  validation_accuracy=  0.6092\n",
      "Epoch 21, CIFAR-10 Batch 2:  loss=  0.0959734  validation_accuracy=  0.6136\n",
      "Epoch 21, CIFAR-10 Batch 3:  loss=  0.0731442  validation_accuracy=  0.6242\n",
      "Epoch 21, CIFAR-10 Batch 4:  loss=  0.0961534  validation_accuracy=  0.6068\n",
      "Epoch 21, CIFAR-10 Batch 5:  loss=  0.0699535  validation_accuracy=  0.6068\n",
      "Epoch 22, CIFAR-10 Batch 1:  loss=  0.0929354  validation_accuracy=  0.61\n",
      "Epoch 22, CIFAR-10 Batch 2:  loss=  0.0984706  validation_accuracy=  0.6092\n",
      "Epoch 22, CIFAR-10 Batch 3:  loss=  0.0558809  validation_accuracy=  0.6004\n",
      "Epoch 22, CIFAR-10 Batch 4:  loss=  0.100662  validation_accuracy=  0.6052\n",
      "Epoch 22, CIFAR-10 Batch 5:  loss=  0.0845441  validation_accuracy=  0.6004\n",
      "Epoch 23, CIFAR-10 Batch 1:  loss=  0.114719  validation_accuracy=  0.6076\n",
      "Epoch 23, CIFAR-10 Batch 2:  loss=  0.0687717  validation_accuracy=  0.6204\n",
      "Epoch 23, CIFAR-10 Batch 3:  loss=  0.0573879  validation_accuracy=  0.6084\n",
      "Epoch 23, CIFAR-10 Batch 4:  loss=  0.0801145  validation_accuracy=  0.599\n",
      "Epoch 23, CIFAR-10 Batch 5:  loss=  0.0678505  validation_accuracy=  0.6148\n",
      "Epoch 24, CIFAR-10 Batch 1:  loss=  0.0912619  validation_accuracy=  0.6106\n",
      "Epoch 24, CIFAR-10 Batch 2:  loss=  0.0691016  validation_accuracy=  0.616\n",
      "Epoch 24, CIFAR-10 Batch 3:  loss=  0.0461534  validation_accuracy=  0.6142\n",
      "Epoch 24, CIFAR-10 Batch 4:  loss=  0.0760854  validation_accuracy=  0.6044\n",
      "Epoch 24, CIFAR-10 Batch 5:  loss=  0.0427041  validation_accuracy=  0.6162\n",
      "Epoch 25, CIFAR-10 Batch 1:  loss=  0.0773745  validation_accuracy=  0.6116\n",
      "Epoch 25, CIFAR-10 Batch 2:  loss=  0.058474  validation_accuracy=  0.607\n",
      "Epoch 25, CIFAR-10 Batch 3:  loss=  0.0428765  validation_accuracy=  0.6094\n",
      "Epoch 25, CIFAR-10 Batch 4:  loss=  0.0625388  validation_accuracy=  0.5996\n",
      "Epoch 25, CIFAR-10 Batch 5:  loss=  0.0414085  validation_accuracy=  0.6152\n"
     ]
    }
   ],
   "source": [
    "\"\"\"\n",
    "DON'T MODIFY ANYTHING IN THIS CELL\n",
    "\"\"\"\n",
    "save_model_path = './image_classification'\n",
    "\n",
    "print('Training...')\n",
    "with tf.Session() as sess:\n",
    "    # Initializing the variables\n",
    "    sess.run(tf.global_variables_initializer())\n",
    "    \n",
    "    # Training cycle\n",
    "    for epoch in range(epochs):\n",
    "        # Loop over all batches\n",
    "        n_batches = 5\n",
    "        for batch_i in range(1, n_batches + 1):\n",
    "            for batch_features, batch_labels in helper.load_preprocess_training_batch(batch_i, batch_size):\n",
    "                train_neural_network(sess, optimizer, keep_probability, batch_features, batch_labels)\n",
    "            print('Epoch {:>2}, CIFAR-10 Batch {}:  '.format(epoch + 1, batch_i), end='')\n",
    "            print_stats(sess, batch_features, batch_labels, cost, accuracy)\n",
    "            \n",
    "    # Save Model\n",
    "    saver = tf.train.Saver()\n",
    "    save_path = saver.save(sess, save_model_path)"
   ]
  },
  {
   "cell_type": "markdown",
   "metadata": {
    "deletable": true,
    "editable": true
   },
   "source": [
    "# Checkpoint\n",
    "The model has been saved to disk.\n",
    "## Test Model\n",
    "Test your model against the test dataset.  This will be your final accuracy. You should have an accuracy greater than 50%. If you don't, keep tweaking the model architecture and parameters."
   ]
  },
  {
   "cell_type": "code",
   "execution_count": 18,
   "metadata": {
    "collapsed": false,
    "deletable": true,
    "editable": true
   },
   "outputs": [
    {
     "name": "stdout",
     "output_type": "stream",
     "text": [
      "Testing Accuracy: 0.6122428797468354\n",
      "\n"
     ]
    },
    {
     "data": {
      "image/png": "[encoded data removed]",
      "text/plain": [
       "<matplotlib.figure.Figure at 0x27100e642b0>"
      ]
     },
     "metadata": {
      "image/png": {
       "height": 319,
       "width": 355
      }
     },
     "output_type": "display_data"
    }
   ],
   "source": [
    "\"\"\"\n",
    "DON'T MODIFY ANYTHING IN THIS CELL\n",
    "\"\"\"\n",
    "%matplotlib inline\n",
    "%config InlineBackend.figure_format = 'retina'\n",
    "\n",
    "import tensorflow as tf\n",
    "import pickle\n",
    "import helper\n",
    "import random\n",
    "\n",
    "# Set batch size if not already set\n",
    "try:\n",
    "    if batch_size:\n",
    "        pass\n",
    "except NameError:\n",
    "    batch_size = 64\n",
    "\n",
    "save_model_path = './image_classification'\n",
    "n_samples = 4\n",
    "top_n_predictions = 3\n",
    "\n",
    "def test_model():\n",
    "    \"\"\"\n",
    "    Test the saved model against the test dataset\n",
    "    \"\"\"\n",
    "\n",
    "    test_features, test_labels = pickle.load(open('preprocess_test.p', mode='rb'))\n",
    "    loaded_graph = tf.Graph()\n",
    "\n",
    "    with tf.Session(graph=loaded_graph) as sess:\n",
    "        # Load model\n",
    "        loader = tf.train.import_meta_graph(save_model_path + '.meta')\n",
    "        loader.restore(sess, save_model_path)\n",
    "\n",
    "        # Get Tensors from loaded model\n",
    "        loaded_x = loaded_graph.get_tensor_by_name('x:0')\n",
    "        loaded_y = loaded_graph.get_tensor_by_name('y:0')\n",
    "        loaded_keep_prob = loaded_graph.get_tensor_by_name('keep_prob:0')\n",
    "        loaded_logits = loaded_graph.get_tensor_by_name('logits:0')\n",
    "        loaded_acc = loaded_graph.get_tensor_by_name('accuracy:0')\n",
    "        \n",
    "        # Get accuracy in batches for memory limitations\n",
    "        test_batch_acc_total = 0\n",
    "        test_batch_count = 0\n",
    "        \n",
    "        for test_feature_batch, test_label_batch in helper.batch_features_labels(test_features, test_labels, batch_size):\n",
    "            test_batch_acc_total += sess.run(\n",
    "                loaded_acc,\n",
    "                feed_dict={loaded_x: test_feature_batch, loaded_y: test_label_batch, loaded_keep_prob: 1.0})\n",
    "            test_batch_count += 1\n",
    "\n",
    "        print('Testing Accuracy: {}\\n'.format(test_batch_acc_total/test_batch_count))\n",
    "\n",
    "        # Print Random Samples\n",
    "        random_test_features, random_test_labels = tuple(zip(*random.sample(list(zip(test_features, test_labels)), n_samples)))\n",
    "        random_test_predictions = sess.run(\n",
    "            tf.nn.top_k(tf.nn.softmax(loaded_logits), top_n_predictions),\n",
    "            feed_dict={loaded_x: random_test_features, loaded_y: random_test_labels, loaded_keep_prob: 1.0})\n",
    "        helper.display_image_predictions(random_test_features, random_test_labels, random_test_predictions)\n",
    "\n",
    "\n",
    "test_model()"
   ]
  },
  {
   "cell_type": "markdown",
   "metadata": {
    "deletable": true,
    "editable": true
   },
   "source": [
    "## Why 50-80% Accuracy?\n",
    "You might be wondering why you can't get an accuracy any higher. First things first, 50% isn't bad for a simple CNN.  Pure guessing would get you 10% accuracy. However, you might notice people are getting scores [well above 80%](http://rodrigob.github.io/are_we_there_yet/build/classification_datasets_results.html#43494641522d3130).  That's because we haven't taught you all there is to know about neural networks. We still need to cover a few more techniques.\n",
    "## Submitting This Project\n",
    "When submitting this project, make sure to run all the cells before saving the notebook.  Save the notebook file as \"dlnd_image_classification.ipynb\" and save it as a HTML file under \"File\" -> \"Download as\".  Include the \"helper.py\" and \"problem_unittests.py\" files in your submission."
   ]
  },
  {
   "cell_type": "code",
   "execution_count": null,
   "metadata": {
    "collapsed": true
   },
   "outputs": [],
   "source": []
  }
 ],
 "metadata": {
  "kernelspec": {
   "display_name": "Python 3",
   "language": "python",
   "name": "python3"
  },
  "language_info": {
   "codemirror_mode": {
    "name": "ipython",
    "version": 3
   },
   "file_extension": ".py",
   "mimetype": "text/x-python",
   "name": "python",
   "nbconvert_exporter": "python",
   "pygments_lexer": "ipython3",
   "version": "3.5.2"
  }
 },
 "nbformat": 4,
 "nbformat_minor": 0
}
